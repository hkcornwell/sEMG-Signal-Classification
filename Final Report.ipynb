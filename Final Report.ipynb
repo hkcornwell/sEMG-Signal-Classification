{
 "cells": [
  {
   "cell_type": "markdown",
   "metadata": {},
   "source": [
    "<center>\n",
    "    <h1>EMG Classificiation for Hand Gestures</h1>\n",
    "    <h2>ISyE 6740, Summer 2020 Final Report</h2>\n",
    "    <h3>Authors: Hayden Cornell, Numaer Zaker</h3>\n",
    "</center>\n",
    "<hr>\n",
    "\n",
    "# 1. Problem Statement\n",
    "\n",
    "Our muscle movements and contractions generate currents that can be measured using a technique known as Electromyography (EMG). EMG has a wide variety of applications ranging from the medical industry, virtual reality, communication, and much more. A few practical examples are as follows:\n",
    "\n",
    "* Virtual Reality - Simulating various hand gestures within virtual reality would be  accomplishable by classifying various  sEMG signals of different hand gestures\n",
    "\n",
    "\n",
    "# 2. Data Source\n",
    "\n",
    "For this analysis, we use the __sEMG for Basic Hand Movements Data Set__. This is an open source dataset that is available here:\n",
    "* https://archive.ics.uci.edu/ml/datasets/sEMG%20for%20Basic%20Hand%20movements#. \n",
    "\n",
    "It contains two databases containing data of sEMG of various participants doing a variety of hand movements. There are six categories that these hand movements fall under:\n",
    "\n",
    "* Spherical\n",
    "* Tip\n",
    "* Palmar\n",
    "* Lateral \n",
    "* Cylindrical\n",
    "* Hook\n",
    "\n",
    "Each row in the dataset represents a single trial of recording sEMG data for the participants. sEMG data is recorded over time, so each column will represent a point in time for each trial.\n",
    "\n",
    "# 3. Methodology\n",
    "\n",
    "# 4. Evaluation and Final Results"
   ]
  },
  {
   "cell_type": "code",
   "execution_count": 1,
   "metadata": {},
   "outputs": [
    {
     "data": {
      "text/html": [
       "<script>\n",
       "code_show=true; \n",
       "function code_toggle() {\n",
       " if (code_show){\n",
       " $('div.input').hide();\n",
       " } else {\n",
       " $('div.input').show();\n",
       " }\n",
       " code_show = !code_show\n",
       "} \n",
       "$( document ).ready(code_toggle);\n",
       "</script>\n",
       "<form action=\"javascript:code_toggle()\"><input type=\"submit\" value=\"Click here to toggle on/off the raw code.\"></form>"
      ],
      "text/plain": [
       "<IPython.core.display.HTML object>"
      ]
     },
     "execution_count": 1,
     "metadata": {},
     "output_type": "execute_result"
    }
   ],
   "source": [
    "from IPython.display import HTML\n",
    "\n",
    "HTML('''<script>\n",
    "code_show=true; \n",
    "function code_toggle() {\n",
    " if (code_show){\n",
    " $('div.input').hide();\n",
    " } else {\n",
    " $('div.input').show();\n",
    " }\n",
    " code_show = !code_show\n",
    "} \n",
    "$( document ).ready(code_toggle);\n",
    "</script>\n",
    "<form action=\"javascript:code_toggle()\"><input type=\"submit\" value=\"Click here to toggle on/off the raw code.\"></form>''')"
   ]
  }
 ],
 "metadata": {
  "kernelspec": {
   "display_name": "Python 3",
   "language": "python",
   "name": "python3"
  },
  "language_info": {
   "codemirror_mode": {
    "name": "ipython",
    "version": 3
   },
   "file_extension": ".py",
   "mimetype": "text/x-python",
   "name": "python",
   "nbconvert_exporter": "python",
   "pygments_lexer": "ipython3",
   "version": "3.6.4"
  }
 },
 "nbformat": 4,
 "nbformat_minor": 2
}
