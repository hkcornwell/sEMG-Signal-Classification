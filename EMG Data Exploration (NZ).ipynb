{
 "cells": [
  {
   "cell_type": "markdown",
   "metadata": {},
   "source": [
    "# EMG Data Exploration\n",
    "\n",
    "In this notebook we explore the sEMG dataset for different hand gestures. We perform the following steps:\n",
    "\n",
    "* Preprocess and clean up our dataset\n",
    "* Leverage signal processing to smooth out the dataset\n",
    "* Perform a variety of classification techniques"
   ]
  },
  {
   "cell_type": "code",
   "execution_count": 7,
   "metadata": {},
   "outputs": [],
   "source": [
    "import random\n",
    "\n",
    "import numpy as np\n",
    "import pandas as pd\n",
    "\n",
    "import scipy.io\n",
    "import scipy\n",
    "from scipy import signal\n",
    "\n",
    "import matplotlib.pyplot as plt\n",
    "from sklearn.model_selection import train_test_split\n",
    "\n",
    "from sklearn.svm import SVC\n",
    "from sklearn.preprocessing import StandardScaler\n",
    "from sklearn.pipeline import make_pipeline\n",
    "\n",
    "from sklearn.cluster import KMeans"
   ]
  },
  {
   "cell_type": "code",
   "execution_count": 8,
   "metadata": {},
   "outputs": [],
   "source": [
    "\"\"\" Define schema of datasets\n",
    "\"\"\"\n",
    "\n",
    "DATABASE = {\n",
    "    'Database 1': ['female_1',\n",
    "                  'female_2',\n",
    "                  'female_3',\n",
    "                  'male_1',\n",
    "                  'male_2'],\n",
    "    'Database 2': ['male_day_1',\n",
    "                  'male_day_2',\n",
    "                  'male_day_3']\n",
    "}\n",
    "\n",
    "COLUMNS = ['cyl_ch1', \n",
    "            'cyl_ch2', \n",
    "            'hook_ch1', \n",
    "            'hook_ch2', \n",
    "            'tip_ch1', \n",
    "            'tip_ch2', \n",
    "            'palm_ch1', \n",
    "            'palm_ch2', \n",
    "            'spher_ch1', \n",
    "            'spher_ch2', \n",
    "            'lat_ch1', \n",
    "            'lat_ch2']\n",
    "\n",
    "LABELS = [\n",
    "    'Spherical',\n",
    "    'Tip',\n",
    "    'Palmar',\n",
    "    'Lateral',\n",
    "    'Cylindrical',\n",
    "    'Hook'\n",
    "]\n",
    "\n",
    "COL_MAPPINGS = {\n",
    "            'cyl_ch1': 'Cylindrical', \n",
    "            'cyl_ch2': 'Cylindrical', \n",
    "            'hook_ch1': 'Hook', \n",
    "            'hook_ch2': 'Hook', \n",
    "            'tip_ch1': 'Tip', \n",
    "            'tip_ch2': 'Tip', \n",
    "            'palm_ch1': 'Palmar', \n",
    "            'palm_ch2': 'Palmar', \n",
    "            'spher_ch1': 'Spherical', \n",
    "            'spher_ch2': 'Spherical', \n",
    "            'lat_ch1': 'Lateral', \n",
    "            'lat_ch2': 'Lateral'\n",
    "}"
   ]
  },
  {
   "cell_type": "code",
   "execution_count": 9,
   "metadata": {},
   "outputs": [
    {
     "name": "stdout",
     "output_type": "stream",
     "text": [
      "Dimensions (1800, 3002)\n"
     ]
    },
    {
     "data": {
      "text/html": [
       "<div>\n",
       "<style scoped>\n",
       "    .dataframe tbody tr th:only-of-type {\n",
       "        vertical-align: middle;\n",
       "    }\n",
       "\n",
       "    .dataframe tbody tr th {\n",
       "        vertical-align: top;\n",
       "    }\n",
       "\n",
       "    .dataframe thead th {\n",
       "        text-align: right;\n",
       "    }\n",
       "</style>\n",
       "<table border=\"1\" class=\"dataframe\">\n",
       "  <thead>\n",
       "    <tr style=\"text-align: right;\">\n",
       "      <th></th>\n",
       "      <th>0</th>\n",
       "      <th>1</th>\n",
       "      <th>2</th>\n",
       "      <th>3</th>\n",
       "      <th>4</th>\n",
       "      <th>5</th>\n",
       "      <th>6</th>\n",
       "      <th>7</th>\n",
       "      <th>8</th>\n",
       "      <th>9</th>\n",
       "      <th>...</th>\n",
       "      <th>2992</th>\n",
       "      <th>2993</th>\n",
       "      <th>2994</th>\n",
       "      <th>2995</th>\n",
       "      <th>2996</th>\n",
       "      <th>2997</th>\n",
       "      <th>2998</th>\n",
       "      <th>2999</th>\n",
       "      <th>identifier</th>\n",
       "      <th>label</th>\n",
       "    </tr>\n",
       "  </thead>\n",
       "  <tbody>\n",
       "    <tr>\n",
       "      <th>0</th>\n",
       "      <td>0.072198</td>\n",
       "      <td>0.276211</td>\n",
       "      <td>0.429221</td>\n",
       "      <td>0.327214</td>\n",
       "      <td>0.123201</td>\n",
       "      <td>0.097700</td>\n",
       "      <td>0.072198</td>\n",
       "      <td>0.021195</td>\n",
       "      <td>-0.004307</td>\n",
       "      <td>0.174205</td>\n",
       "      <td>...</td>\n",
       "      <td>0.276211</td>\n",
       "      <td>-0.259323</td>\n",
       "      <td>0.072198</td>\n",
       "      <td>1.882814</td>\n",
       "      <td>0.480224</td>\n",
       "      <td>-2.528968</td>\n",
       "      <td>0.097700</td>\n",
       "      <td>0.837247</td>\n",
       "      <td>female_1</td>\n",
       "      <td>Cylindrical</td>\n",
       "    </tr>\n",
       "    <tr>\n",
       "      <th>1</th>\n",
       "      <td>0.250710</td>\n",
       "      <td>0.301713</td>\n",
       "      <td>0.199706</td>\n",
       "      <td>0.378218</td>\n",
       "      <td>0.021195</td>\n",
       "      <td>-0.080812</td>\n",
       "      <td>-0.106313</td>\n",
       "      <td>0.021195</td>\n",
       "      <td>0.276211</td>\n",
       "      <td>0.072198</td>\n",
       "      <td>...</td>\n",
       "      <td>-1.304890</td>\n",
       "      <td>0.786244</td>\n",
       "      <td>0.786244</td>\n",
       "      <td>0.939254</td>\n",
       "      <td>1.270775</td>\n",
       "      <td>-0.616346</td>\n",
       "      <td>0.454723</td>\n",
       "      <td>0.021195</td>\n",
       "      <td>female_1</td>\n",
       "      <td>Cylindrical</td>\n",
       "    </tr>\n",
       "    <tr>\n",
       "      <th>2</th>\n",
       "      <td>0.123201</td>\n",
       "      <td>0.148703</td>\n",
       "      <td>0.148703</td>\n",
       "      <td>0.123201</td>\n",
       "      <td>-0.004307</td>\n",
       "      <td>-0.157317</td>\n",
       "      <td>-0.029808</td>\n",
       "      <td>0.174205</td>\n",
       "      <td>0.199706</td>\n",
       "      <td>0.250710</td>\n",
       "      <td>...</td>\n",
       "      <td>-0.233821</td>\n",
       "      <td>0.403719</td>\n",
       "      <td>0.046696</td>\n",
       "      <td>-0.080812</td>\n",
       "      <td>0.378218</td>\n",
       "      <td>-0.361330</td>\n",
       "      <td>0.505726</td>\n",
       "      <td>0.607732</td>\n",
       "      <td>female_1</td>\n",
       "      <td>Cylindrical</td>\n",
       "    </tr>\n",
       "    <tr>\n",
       "      <th>3</th>\n",
       "      <td>0.531228</td>\n",
       "      <td>-0.106313</td>\n",
       "      <td>-0.284825</td>\n",
       "      <td>-0.335828</td>\n",
       "      <td>-0.182818</td>\n",
       "      <td>0.123201</td>\n",
       "      <td>0.301713</td>\n",
       "      <td>0.352716</td>\n",
       "      <td>0.327214</td>\n",
       "      <td>-0.029808</td>\n",
       "      <td>...</td>\n",
       "      <td>0.709739</td>\n",
       "      <td>0.276211</td>\n",
       "      <td>-0.080812</td>\n",
       "      <td>0.123201</td>\n",
       "      <td>0.735241</td>\n",
       "      <td>1.270775</td>\n",
       "      <td>-0.769356</td>\n",
       "      <td>-1.687415</td>\n",
       "      <td>female_1</td>\n",
       "      <td>Cylindrical</td>\n",
       "    </tr>\n",
       "    <tr>\n",
       "      <th>4</th>\n",
       "      <td>-0.310326</td>\n",
       "      <td>-0.182818</td>\n",
       "      <td>0.276211</td>\n",
       "      <td>0.480224</td>\n",
       "      <td>0.352716</td>\n",
       "      <td>0.123201</td>\n",
       "      <td>0.123201</td>\n",
       "      <td>0.097700</td>\n",
       "      <td>-0.029808</td>\n",
       "      <td>-0.080812</td>\n",
       "      <td>...</td>\n",
       "      <td>-0.208320</td>\n",
       "      <td>0.429221</td>\n",
       "      <td>0.378218</td>\n",
       "      <td>0.633234</td>\n",
       "      <td>0.811746</td>\n",
       "      <td>0.403719</td>\n",
       "      <td>-0.182818</td>\n",
       "      <td>-0.412333</td>\n",
       "      <td>female_1</td>\n",
       "      <td>Cylindrical</td>\n",
       "    </tr>\n",
       "  </tbody>\n",
       "</table>\n",
       "<p>5 rows × 3002 columns</p>\n",
       "</div>"
      ],
      "text/plain": [
       "          0         1         2         3         4         5         6  \\\n",
       "0  0.072198  0.276211  0.429221  0.327214  0.123201  0.097700  0.072198   \n",
       "1  0.250710  0.301713  0.199706  0.378218  0.021195 -0.080812 -0.106313   \n",
       "2  0.123201  0.148703  0.148703  0.123201 -0.004307 -0.157317 -0.029808   \n",
       "3  0.531228 -0.106313 -0.284825 -0.335828 -0.182818  0.123201  0.301713   \n",
       "4 -0.310326 -0.182818  0.276211  0.480224  0.352716  0.123201  0.123201   \n",
       "\n",
       "          7         8         9  ...      2992      2993      2994      2995  \\\n",
       "0  0.021195 -0.004307  0.174205  ...  0.276211 -0.259323  0.072198  1.882814   \n",
       "1  0.021195  0.276211  0.072198  ... -1.304890  0.786244  0.786244  0.939254   \n",
       "2  0.174205  0.199706  0.250710  ... -0.233821  0.403719  0.046696 -0.080812   \n",
       "3  0.352716  0.327214 -0.029808  ...  0.709739  0.276211 -0.080812  0.123201   \n",
       "4  0.097700 -0.029808 -0.080812  ... -0.208320  0.429221  0.378218  0.633234   \n",
       "\n",
       "       2996      2997      2998      2999  identifier        label  \n",
       "0  0.480224 -2.528968  0.097700  0.837247    female_1  Cylindrical  \n",
       "1  1.270775 -0.616346  0.454723  0.021195    female_1  Cylindrical  \n",
       "2  0.378218 -0.361330  0.505726  0.607732    female_1  Cylindrical  \n",
       "3  0.735241  1.270775 -0.769356 -1.687415    female_1  Cylindrical  \n",
       "4  0.811746  0.403719 -0.182818 -0.412333    female_1  Cylindrical  \n",
       "\n",
       "[5 rows x 3002 columns]"
      ]
     },
     "execution_count": 9,
     "metadata": {},
     "output_type": "execute_result"
    }
   ],
   "source": [
    "\"\"\" Preprocess and standardize dataset into a single dataframe table\n",
    "\"\"\"\n",
    "\n",
    "DB_NAME = 'Database 1'\n",
    "dfs = []\n",
    "for fname in DATABASE[DB_NAME]: \n",
    "    tmp_data = scipy.io.loadmat(f'./data/{DB_NAME}/{fname}')\n",
    "    tmp_data = {k:v for k,v in tmp_data.items() if k in COLUMNS}\n",
    "    for c in COLUMNS:\n",
    "        tmp_dfx = pd.DataFrame(tmp_data[c])\n",
    "        tmp_dfx['identifier'] = fname\n",
    "        tmp_dfx['label'] = COL_MAPPINGS[c]\n",
    "        dfs.append(pd.DataFrame(tmp_dfx))\n",
    "\n",
    "dataset = pd.concat(dfs)\n",
    "print(\"Dimensions\", dataset.shape)\n",
    "dataset.head()"
   ]
  },
  {
   "cell_type": "code",
   "execution_count": 10,
   "metadata": {},
   "outputs": [],
   "source": [
    "#combine coupled readouts\n",
    "new_dfs = []\n",
    "for lab in LABELS:\n",
    "    new_temp = dataset[dataset['label'] == lab].values\n",
    "    new_temp_comb = pd.DataFrame(np.concatenate((new_temp[:150,:3000],new_temp[150:,:3002]),axis=1))\n",
    "    new_dfs.append(new_temp_comb)\n",
    "    \n",
    "\n",
    "\n",
    "new_dataset = pd.concat(new_dfs)\n",
    "new_dataset.rename(columns={6001:'label', 6000:'identifier'}, inplace=True)"
   ]
  },
  {
   "cell_type": "code",
   "execution_count": 11,
   "metadata": {},
   "outputs": [
    {
     "data": {
      "text/plain": [
       "dict_keys(['__header__', '__version__', '__globals__', 'cyl_ch1', 'cyl_ch2', 'hook_ch1', 'hook_ch2', 'tip_ch1', 'tip_ch2', 'palm_ch1', 'palm_ch2', 'spher_ch1', 'spher_ch2', 'lat_ch1', 'lat_ch2'])"
      ]
     },
     "execution_count": 11,
     "metadata": {},
     "output_type": "execute_result"
    }
   ],
   "source": [
    "dx = scipy.io.loadmat('./data/Database 2/male_day_1.mat')\n",
    "dx.keys()"
   ]
  },
  {
   "cell_type": "code",
   "execution_count": 12,
   "metadata": {},
   "outputs": [
    {
     "data": {
      "text/plain": [
       "' Apply absolute value filter to set all values >0\\n'"
      ]
     },
     "execution_count": 12,
     "metadata": {},
     "output_type": "execute_result"
    }
   ],
   "source": [
    "\"\"\" Apply absolute value filter to set all values >0\n",
    "\"\"\"\n",
    "##emg_abs = abs(hook_df)\n",
    "#plt.plot((emg_abs.to_numpy()[5,:]))"
   ]
  },
  {
   "cell_type": "code",
   "execution_count": 13,
   "metadata": {},
   "outputs": [],
   "source": [
    "def abs_val_filter(data):\n",
    "    \"\"\" Apply an absolute value filter to a DataFrame\n",
    "    \"\"\"\n",
    "    return abs(data.copy())\n",
    "\n",
    "def butterworth_low_pass_filter(data, \n",
    "                                frequency=500, \n",
    "                                lp_filter=5,\n",
    "                                order=4):\n",
    "    \"\"\"\n",
    "    Create a low pass filter to eliminate noise and smooth EMG data \n",
    "    \n",
    "    The data were collected at a sampling rate of 500 Hz, \n",
    "    using as a programming kernel the National Instruments (NI) Labview. \n",
    "    The signals were band-pass filtered using a Butterworth Band Pass filter \n",
    "    with low and high cutoff at 15Hz and 500Hz respectively and a notch filter at 50Hz \n",
    "    to eliminate line interference artifacts.\n",
    "    \"\"\"\n",
    "    lp_filter = lp_filter/(frequency/2)\n",
    "\n",
    "    # Create a lowpass butterworth signal \n",
    "    B, A = scipy.signal.butter(order, \n",
    "                               lp_filter, \n",
    "                               btype='lowpass')\n",
    "\n",
    "    # Apply the lowpass signal filter to EMG data\n",
    "    smooth_emg = scipy.signal.filtfilt(B, \n",
    "                                       A, \n",
    "                                       data)\n",
    "    return smooth_emg\n",
    "\n",
    "\n",
    "def holt_smoothing(data,\n",
    "                  s_level = 0.5,\n",
    "                  s_slope = 0.1):\n",
    "    smoothed = Holt(data[0]).fit(smoothing_level=s_level, smoothing_slope=s_slope).fittedvalues[:]\n",
    "    print(data[0])\n",
    "    print(smoothed)\n",
    "    return smoothed"
   ]
  },
  {
   "cell_type": "code",
   "execution_count": 14,
   "metadata": {},
   "outputs": [
    {
     "data": {
      "text/plain": [
       "Index([           0,            1,            2,            3,            4,\n",
       "                  5,            6,            7,            8,            9,\n",
       "       ...\n",
       "               5992,         5993,         5994,         5995,         5996,\n",
       "               5997,         5998,         5999, 'identifier',      'label'],\n",
       "      dtype='object', length=6002)"
      ]
     },
     "execution_count": 14,
     "metadata": {},
     "output_type": "execute_result"
    }
   ],
   "source": [
    "new_dataset.columns"
   ]
  },
  {
   "cell_type": "code",
   "execution_count": 15,
   "metadata": {},
   "outputs": [],
   "source": [
    "df_features = new_dataset.iloc[:,:6000].copy()\n",
    "df_labels = new_dataset.iloc[:, 6001]\n",
    "df_features = abs_val_filter(df_features)"
   ]
  },
  {
   "cell_type": "code",
   "execution_count": 16,
   "metadata": {},
   "outputs": [
    {
     "data": {
      "text/plain": [
       "[<matplotlib.lines.Line2D at 0x212e6331518>]"
      ]
     },
     "execution_count": 16,
     "metadata": {},
     "output_type": "execute_result"
    },
    {
     "data": {
      "image/png": "[encoded data removed]",
      "text/plain": [
       "<matplotlib.figure.Figure at 0x212e6331470>"
      ]
     },
     "metadata": {},
     "output_type": "display_data"
    }
   ],
   "source": [
    "smoothed_emg_df = butterworth_low_pass_filter(df_features.to_numpy(),\n",
    "                                             frequency=5000,\n",
    "                                             lp_filter=25)\n",
    "plt.plot(df_features.to_numpy()[0])\n",
    "plt.plot(smoothed_emg_df[0])"
   ]
  },
  {
   "cell_type": "code",
   "execution_count": 17,
   "metadata": {},
   "outputs": [
    {
     "data": {
      "text/plain": [
       "[<matplotlib.lines.Line2D at 0x212867196d8>]"
      ]
     },
     "execution_count": 17,
     "metadata": {},
     "output_type": "execute_result"
    },
    {
     "data": {
      "image/png": "[encoded data removed]",
      "text/plain": [
       "<matplotlib.figure.Figure at 0x212e632fe80>"
      ]
     },
     "metadata": {},
     "output_type": "display_data"
    }
   ],
   "source": [
    "plt.plot(smoothed_emg_df[0])"
   ]
  },
  {
   "cell_type": "code",
   "execution_count": 18,
   "metadata": {},
   "outputs": [],
   "source": [
    "from sklearn.decomposition import PCA\n",
    "\n",
    "pca = PCA(n_components=2).fit(smoothed_emg_df.T)\n",
    "transformed = pca.components_.T"
   ]
  },
  {
   "cell_type": "code",
   "execution_count": 19,
   "metadata": {},
   "outputs": [],
   "source": [
    "\"\"\" Split EMG dataset into training and testing\n",
    "\"\"\"\n",
    "\n",
    "X_train, X_test, y_train, y_test = train_test_split(transformed, \n",
    "                                                    df_labels, \n",
    "                                                    test_size=0.2, \n",
    "                                                    random_state=12)"
   ]
  },
  {
   "cell_type": "code",
   "execution_count": 20,
   "metadata": {},
   "outputs": [
    {
     "data": {
      "text/plain": [
       "True     0.522222\n",
       "False    0.477778\n",
       "Name: label, dtype: float64"
      ]
     },
     "execution_count": 20,
     "metadata": {},
     "output_type": "execute_result"
    }
   ],
   "source": [
    "\"\"\" SVM Classification Results\n",
    "\"\"\"\n",
    "\n",
    "clf = make_pipeline(StandardScaler(),\n",
    "                    SVC(gamma='auto', \n",
    "                        degree=2,\n",
    "                       kernel='rbf'))\n",
    "clf.fit(X_train, y_train)\n",
    "\n",
    "svm_labels = clf.predict(X_test)\n",
    "\n",
    "(svm_labels == y_test).value_counts()/len(X_test)"
   ]
  },
  {
   "cell_type": "code",
   "execution_count": 22,
   "metadata": {},
   "outputs": [
    {
     "data": {
      "image/png": "[encoded data removed]",
      "text/plain": [
       "<matplotlib.figure.Figure at 0x21286719e10>"
      ]
     },
     "metadata": {},
     "output_type": "display_data"
    }
   ],
   "source": [
    "# we create an instance of SVM and fit out data. We do not scale our\n",
    "# data since we want to plot the support vectors\n",
    "C = 1.0  # SVM regularization parameter\n",
    "from sklearn import preprocessing\n",
    "le = preprocessing.LabelEncoder()\n",
    "le.fit(y_train)\n",
    "y_train_alt = le.transform(y_train)\n",
    "h = .02 \n",
    "\n",
    "svc = SVC(kernel='linear', C=C).fit(X_train, y_train_alt)\n",
    "rbf_svc = SVC(kernel='rbf', gamma=0.7, C=C).fit(X_train, y_train_alt)\n",
    "poly_svc = SVC(kernel='poly', degree=3, C=C).fit(X_train, y_train_alt)\n",
    "\n",
    "# create a mesh to plot in\n",
    "x_min, x_max = X_train[:, 0].min() - 1, X_train[:, 0].max() + 1\n",
    "y_min, y_max = X_train[:, 1].min() - 1, X_train[:, 1].max() + 1\n",
    "xx, yy = np.meshgrid(np.arange(x_min, x_max, h),\n",
    "                     np.arange(y_min, y_max, h))\n",
    "\n",
    "# title for the plots\n",
    "titles = ['SVC with linear kernel',\n",
    "          'SVC with RBF kernel',\n",
    "          'SVC with polynomial (degree 3) kernel']\n",
    "\n",
    "\n",
    "for i, clf in enumerate((svc, rbf_svc, poly_svc)):\n",
    "    # Plot the decision boundary. For that, we will assign a color to each\n",
    "    # point in the mesh [x_min, x_max]x[y_min, y_max].\n",
    "    plt.subplot(2, 2, i + 1)\n",
    "    plt.subplots_adjust(wspace=0.4, hspace=0.4)\n",
    "\n",
    "    Z = clf.predict(np.c_[xx.ravel(), yy.ravel()])\n",
    "\n",
    "    # Put the result into a color plot\n",
    "    Z = Z.reshape(xx.shape)\n",
    "    plt.contourf(xx, yy, Z, cmap=plt.cm.coolwarm, alpha=0.8)\n",
    "\n",
    "    # Plot also the training points\n",
    "    plt.scatter(X_train[:, 0], X_train[:, 1], c=y_train_alt, cmap=plt.cm.coolwarm)\n",
    "    plt.xlabel('PCA 1')\n",
    "    plt.ylabel('PCA 2')\n",
    "    plt.xlim(xx.min(), xx.max())\n",
    "    plt.ylim(yy.min(), yy.max())\n",
    "    plt.xticks(())\n",
    "    plt.yticks(())\n",
    "    plt.title(titles[i])\n",
    "\n",
    "plt.show()"
   ]
  },
  {
   "cell_type": "code",
   "execution_count": 117,
   "metadata": {},
   "outputs": [
    {
     "data": {
      "text/plain": [
       "0.4666666666666667"
      ]
     },
     "execution_count": 117,
     "metadata": {},
     "output_type": "execute_result"
    }
   ],
   "source": [
    "\"\"\" KMeans unsupervised learning\n",
    "\"\"\"\n",
    "\n",
    "kmeans = KMeans(n_clusters=len(LABELS)).fit(X_train)\n",
    "\n",
    "kmeans.labels_\n",
    "predicted_labels = kmeans.predict(X_test)\n",
    "predicted_labels\n",
    "\n",
    "1 - (sum([abs(i[0] - i[1]) for i in zip(sorted(np.bincount(le.transform(y_test))), \n",
    "                                   sorted(np.bincount(predicted_labels)))])/len(y_test))"
   ]
  },
  {
   "cell_type": "code",
   "execution_count": 82,
   "metadata": {},
   "outputs": [
    {
     "data": {
      "image/png": "[encoded data removed]",
      "text/plain": [
       "<matplotlib.figure.Figure at 0x21280488048>"
      ]
     },
     "metadata": {},
     "output_type": "display_data"
    }
   ],
   "source": [
    "\"\"\" Code taken from https://scikit-learn.org/stable/auto_examples/cluster/plot_kmeans_digits.html\n",
    "\"\"\"\n",
    "\n",
    "# Step size of the mesh. Decrease to increase the quality of the VQ.\n",
    "h = .02     # point in the mesh [x_min, x_max]x[y_min, y_max].\n",
    "\n",
    "reduced_data = transformed\n",
    "\n",
    "# Plot the decision boundary. For that, we will assign a color to each\n",
    "x_min, x_max = reduced_data[:, 0].min() - 1, reduced_data[:, 0].max() + 1\n",
    "y_min, y_max = reduced_data[:, 1].min() - 1, reduced_data[:, 1].max() + 1\n",
    "\n",
    "x_min /= 5\n",
    "x_max /= 5\n",
    "y_min /= 5\n",
    "y_max /= 5\n",
    "\n",
    "xx, yy = np.meshgrid(np.arange(x_min, x_max, h), np.arange(y_min, y_max, h))\n",
    "\n",
    "# Obtain labels for each point in mesh. Use last trained model.\n",
    "Z = kmeans.predict(np.c_[xx.ravel(), yy.ravel()])\n",
    "\n",
    "# Put the result into a color plot\n",
    "Z = Z.reshape(xx.shape)\n",
    "plt.figure(1)\n",
    "plt.clf()\n",
    "plt.imshow(Z, interpolation='nearest',\n",
    "           extent=(xx.min(), xx.max(), yy.min(), yy.max()),\n",
    "           cmap=plt.cm.Paired,\n",
    "           aspect='auto', origin='lower')\n",
    "\n",
    "plt.plot(reduced_data[:, 0], reduced_data[:, 1], 'k.', markersize=2)\n",
    "# Plot the centroids as a white X\n",
    "centroids = kmeans.cluster_centers_\n",
    "plt.scatter(centroids[:, 0], centroids[:, 1],\n",
    "            marker='x', s=169, linewidths=3,\n",
    "            color='w', zorder=10)\n",
    "plt.title('K-means clustering on the sEMG dataset')\n",
    "plt.xlim(x_min, x_max)\n",
    "plt.ylim(y_min, y_max)\n",
    "plt.xticks(())\n",
    "plt.yticks(())\n",
    "plt.show()"
   ]
  },
  {
   "cell_type": "code",
   "execution_count": 116,
   "metadata": {},
   "outputs": [
    {
     "data": {
      "text/plain": [
       "0.5888888888888889"
      ]
     },
     "execution_count": 116,
     "metadata": {},
     "output_type": "execute_result"
    }
   ],
   "source": [
    "\"\"\" GM Classification Results\n",
    "\"\"\"\n",
    "import math\n",
    "from sklearn.mixture import GaussianMixture as GMM\n",
    "gmm = GMM(n_components=6).fit(X_train)\n",
    "labels = gmm.predict(X_test)\n",
    "1 - (sum([abs(i[0] - i[1]) for i in zip(sorted(np.bincount(le.transform(y_test))), \n",
    "                                   sorted(np.bincount(labels)))])/len(y_test))"
   ]
  },
  {
   "cell_type": "code",
   "execution_count": 104,
   "metadata": {},
   "outputs": [
    {
     "data": {
      "text/plain": [
       "{24: 7, 25: 13, 31: 23, 32: 42, 36: 57}"
      ]
     },
     "execution_count": 104,
     "metadata": {},
     "output_type": "execute_result"
    }
   ],
   "source": [
    "dict(zip(sorted(np.bincount(le.transform(y_test))), \n",
    "                                   sorted(np.bincount(labels))))"
   ]
  },
  {
   "cell_type": "code",
   "execution_count": 84,
   "metadata": {},
   "outputs": [
    {
     "name": "stdout",
     "output_type": "stream",
     "text": [
      "Number of mislabeled points out of a total 180 points : 96\n",
      "Accuracy 0.5333333333333333\n"
     ]
    }
   ],
   "source": [
    "\"\"\" NB Classification Rules\n",
    "\"\"\"\n",
    "\n",
    "from sklearn.naive_bayes import GaussianNB\n",
    "\n",
    "gnb = make_pipeline(StandardScaler(),\n",
    "                    GaussianNB())\n",
    "y_pred = gnb.fit(X_train, y_train).predict(X_test)\n",
    "\n",
    "print(\"Number of mislabeled points out of a total %d points : %d\" % (X_test.shape[0], (y_test != y_pred).sum()))\n",
    "print(\"Accuracy\", (y_test != y_pred).sum() / X_test.shape[0])"
   ]
  }
 ],
 "metadata": {
  "kernelspec": {
   "display_name": "Python 3",
   "language": "python",
   "name": "python3"
  },
  "language_info": {
   "codemirror_mode": {
    "name": "ipython",
    "version": 3
   },
   "file_extension": ".py",
   "mimetype": "text/x-python",
   "name": "python",
   "nbconvert_exporter": "python",
   "pygments_lexer": "ipython3",
   "version": "3.6.4"
  }
 },
 "nbformat": 4,
 "nbformat_minor": 2
}
