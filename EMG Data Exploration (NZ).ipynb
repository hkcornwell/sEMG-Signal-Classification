{
 "cells": [
  {
   "cell_type": "markdown",
   "metadata": {},
   "source": [
    "# EMG Data Exploration\n",
    "\n",
    "In this notebook we explore the sEMG dataset for different hand gestures. We perform the following steps:\n",
    "\n",
    "* Preprocess and clean up our dataset\n",
    "* Leverage signal processing to smooth out the dataset\n",
    "* Perform a variety of classification techniques"
   ]
  },
  {
   "cell_type": "code",
   "execution_count": 218,
   "metadata": {},
   "outputs": [],
   "source": [
    "import random\n",
    "\n",
    "import numpy as np\n",
    "import pandas as pd\n",
    "\n",
    "import scipy.io\n",
    "import scipy\n",
    "from scipy import signal\n",
    "\n",
    "import matplotlib.pyplot as plt\n",
    "from sklearn.model_selection import train_test_split\n",
    "\n",
    "from sklearn.svm import SVC\n",
    "from sklearn.preprocessing import StandardScaler\n",
    "from sklearn.pipeline import make_pipeline\n",
    "\n",
    "from sklearn.cluster import KMeans"
   ]
  },
  {
   "cell_type": "code",
   "execution_count": 239,
   "metadata": {},
   "outputs": [],
   "source": [
    "\"\"\" Define schema of datasets\n",
    "\"\"\"\n",
    "\n",
    "DATABASE = {\n",
    "    'Database 1': ['female_1',\n",
    "                  'female_2',\n",
    "                  'female_3',\n",
    "                  'male_1',\n",
    "                  'male_2'],\n",
    "    'Database 2': ['male_day_1',\n",
    "                  'male_day_2',\n",
    "                  'male_day_3']\n",
    "}\n",
    "\n",
    "COLUMNS = ['cyl_ch1', \n",
    "            'cyl_ch2', \n",
    "            'hook_ch1', \n",
    "            'hook_ch2', \n",
    "            'tip_ch1', \n",
    "            'tip_ch2', \n",
    "            'palm_ch1', \n",
    "            'palm_ch2', \n",
    "            'spher_ch1', \n",
    "            'spher_ch2', \n",
    "            'lat_ch1', \n",
    "            'lat_ch2']\n",
    "\n",
    "LABELS = [\n",
    "    'Spherical',\n",
    "    'Tip',\n",
    "    'Palmar',\n",
    "    'Lateral',\n",
    "    'Cylindrical',\n",
    "    'Hook'\n",
    "]\n",
    "\n",
    "COL_MAPPINGS = {\n",
    "            'cyl_ch1': 'Cylindrical', \n",
    "            'cyl_ch2': 'Cylindrical', \n",
    "            'hook_ch1': 'Hook', \n",
    "            'hook_ch2': 'Hook', \n",
    "            'tip_ch1': 'Tip', \n",
    "            'tip_ch2': 'Tip', \n",
    "            'palm_ch1': 'Palmar', \n",
    "            'palm_ch2': 'Palmar', \n",
    "            'spher_ch1': 'Spherical', \n",
    "            'spher_ch2': 'Spherical', \n",
    "            'lat_ch1': 'Lateral', \n",
    "            'lat_ch2': 'Lateral'\n",
    "}"
   ]
  },
  {
   "cell_type": "code",
   "execution_count": 240,
   "metadata": {},
   "outputs": [
    {
     "name": "stdout",
     "output_type": "stream",
     "text": [
      "Dimensions (1800, 3002)\n"
     ]
    },
    {
     "data": {
      "text/html": [
       "<div>\n",
       "<style scoped>\n",
       "    .dataframe tbody tr th:only-of-type {\n",
       "        vertical-align: middle;\n",
       "    }\n",
       "\n",
       "    .dataframe tbody tr th {\n",
       "        vertical-align: top;\n",
       "    }\n",
       "\n",
       "    .dataframe thead th {\n",
       "        text-align: right;\n",
       "    }\n",
       "</style>\n",
       "<table border=\"1\" class=\"dataframe\">\n",
       "  <thead>\n",
       "    <tr style=\"text-align: right;\">\n",
       "      <th></th>\n",
       "      <th>0</th>\n",
       "      <th>1</th>\n",
       "      <th>2</th>\n",
       "      <th>3</th>\n",
       "      <th>4</th>\n",
       "      <th>5</th>\n",
       "      <th>6</th>\n",
       "      <th>7</th>\n",
       "      <th>8</th>\n",
       "      <th>9</th>\n",
       "      <th>...</th>\n",
       "      <th>2992</th>\n",
       "      <th>2993</th>\n",
       "      <th>2994</th>\n",
       "      <th>2995</th>\n",
       "      <th>2996</th>\n",
       "      <th>2997</th>\n",
       "      <th>2998</th>\n",
       "      <th>2999</th>\n",
       "      <th>identifier</th>\n",
       "      <th>label</th>\n",
       "    </tr>\n",
       "  </thead>\n",
       "  <tbody>\n",
       "    <tr>\n",
       "      <th>0</th>\n",
       "      <td>0.072198</td>\n",
       "      <td>0.276211</td>\n",
       "      <td>0.429221</td>\n",
       "      <td>0.327214</td>\n",
       "      <td>0.123201</td>\n",
       "      <td>0.097700</td>\n",
       "      <td>0.072198</td>\n",
       "      <td>0.021195</td>\n",
       "      <td>-0.004307</td>\n",
       "      <td>0.174205</td>\n",
       "      <td>...</td>\n",
       "      <td>0.276211</td>\n",
       "      <td>-0.259323</td>\n",
       "      <td>0.072198</td>\n",
       "      <td>1.882814</td>\n",
       "      <td>0.480224</td>\n",
       "      <td>-2.528968</td>\n",
       "      <td>0.097700</td>\n",
       "      <td>0.837247</td>\n",
       "      <td>female_1</td>\n",
       "      <td>Cylindrical</td>\n",
       "    </tr>\n",
       "    <tr>\n",
       "      <th>1</th>\n",
       "      <td>0.250710</td>\n",
       "      <td>0.301713</td>\n",
       "      <td>0.199706</td>\n",
       "      <td>0.378218</td>\n",
       "      <td>0.021195</td>\n",
       "      <td>-0.080812</td>\n",
       "      <td>-0.106313</td>\n",
       "      <td>0.021195</td>\n",
       "      <td>0.276211</td>\n",
       "      <td>0.072198</td>\n",
       "      <td>...</td>\n",
       "      <td>-1.304890</td>\n",
       "      <td>0.786244</td>\n",
       "      <td>0.786244</td>\n",
       "      <td>0.939254</td>\n",
       "      <td>1.270775</td>\n",
       "      <td>-0.616346</td>\n",
       "      <td>0.454723</td>\n",
       "      <td>0.021195</td>\n",
       "      <td>female_1</td>\n",
       "      <td>Cylindrical</td>\n",
       "    </tr>\n",
       "    <tr>\n",
       "      <th>2</th>\n",
       "      <td>0.123201</td>\n",
       "      <td>0.148703</td>\n",
       "      <td>0.148703</td>\n",
       "      <td>0.123201</td>\n",
       "      <td>-0.004307</td>\n",
       "      <td>-0.157317</td>\n",
       "      <td>-0.029808</td>\n",
       "      <td>0.174205</td>\n",
       "      <td>0.199706</td>\n",
       "      <td>0.250710</td>\n",
       "      <td>...</td>\n",
       "      <td>-0.233821</td>\n",
       "      <td>0.403719</td>\n",
       "      <td>0.046696</td>\n",
       "      <td>-0.080812</td>\n",
       "      <td>0.378218</td>\n",
       "      <td>-0.361330</td>\n",
       "      <td>0.505726</td>\n",
       "      <td>0.607732</td>\n",
       "      <td>female_1</td>\n",
       "      <td>Cylindrical</td>\n",
       "    </tr>\n",
       "    <tr>\n",
       "      <th>3</th>\n",
       "      <td>0.531228</td>\n",
       "      <td>-0.106313</td>\n",
       "      <td>-0.284825</td>\n",
       "      <td>-0.335828</td>\n",
       "      <td>-0.182818</td>\n",
       "      <td>0.123201</td>\n",
       "      <td>0.301713</td>\n",
       "      <td>0.352716</td>\n",
       "      <td>0.327214</td>\n",
       "      <td>-0.029808</td>\n",
       "      <td>...</td>\n",
       "      <td>0.709739</td>\n",
       "      <td>0.276211</td>\n",
       "      <td>-0.080812</td>\n",
       "      <td>0.123201</td>\n",
       "      <td>0.735241</td>\n",
       "      <td>1.270775</td>\n",
       "      <td>-0.769356</td>\n",
       "      <td>-1.687415</td>\n",
       "      <td>female_1</td>\n",
       "      <td>Cylindrical</td>\n",
       "    </tr>\n",
       "    <tr>\n",
       "      <th>4</th>\n",
       "      <td>-0.310326</td>\n",
       "      <td>-0.182818</td>\n",
       "      <td>0.276211</td>\n",
       "      <td>0.480224</td>\n",
       "      <td>0.352716</td>\n",
       "      <td>0.123201</td>\n",
       "      <td>0.123201</td>\n",
       "      <td>0.097700</td>\n",
       "      <td>-0.029808</td>\n",
       "      <td>-0.080812</td>\n",
       "      <td>...</td>\n",
       "      <td>-0.208320</td>\n",
       "      <td>0.429221</td>\n",
       "      <td>0.378218</td>\n",
       "      <td>0.633234</td>\n",
       "      <td>0.811746</td>\n",
       "      <td>0.403719</td>\n",
       "      <td>-0.182818</td>\n",
       "      <td>-0.412333</td>\n",
       "      <td>female_1</td>\n",
       "      <td>Cylindrical</td>\n",
       "    </tr>\n",
       "  </tbody>\n",
       "</table>\n",
       "<p>5 rows × 3002 columns</p>\n",
       "</div>"
      ],
      "text/plain": [
       "          0         1         2         3         4         5         6  \\\n",
       "0  0.072198  0.276211  0.429221  0.327214  0.123201  0.097700  0.072198   \n",
       "1  0.250710  0.301713  0.199706  0.378218  0.021195 -0.080812 -0.106313   \n",
       "2  0.123201  0.148703  0.148703  0.123201 -0.004307 -0.157317 -0.029808   \n",
       "3  0.531228 -0.106313 -0.284825 -0.335828 -0.182818  0.123201  0.301713   \n",
       "4 -0.310326 -0.182818  0.276211  0.480224  0.352716  0.123201  0.123201   \n",
       "\n",
       "          7         8         9  ...      2992      2993      2994      2995  \\\n",
       "0  0.021195 -0.004307  0.174205  ...  0.276211 -0.259323  0.072198  1.882814   \n",
       "1  0.021195  0.276211  0.072198  ... -1.304890  0.786244  0.786244  0.939254   \n",
       "2  0.174205  0.199706  0.250710  ... -0.233821  0.403719  0.046696 -0.080812   \n",
       "3  0.352716  0.327214 -0.029808  ...  0.709739  0.276211 -0.080812  0.123201   \n",
       "4  0.097700 -0.029808 -0.080812  ... -0.208320  0.429221  0.378218  0.633234   \n",
       "\n",
       "       2996      2997      2998      2999  identifier        label  \n",
       "0  0.480224 -2.528968  0.097700  0.837247    female_1  Cylindrical  \n",
       "1  1.270775 -0.616346  0.454723  0.021195    female_1  Cylindrical  \n",
       "2  0.378218 -0.361330  0.505726  0.607732    female_1  Cylindrical  \n",
       "3  0.735241  1.270775 -0.769356 -1.687415    female_1  Cylindrical  \n",
       "4  0.811746  0.403719 -0.182818 -0.412333    female_1  Cylindrical  \n",
       "\n",
       "[5 rows x 3002 columns]"
      ]
     },
     "execution_count": 240,
     "metadata": {},
     "output_type": "execute_result"
    }
   ],
   "source": [
    "\"\"\" Preprocess and standardize dataset into a single dataframe table\n",
    "\"\"\"\n",
    "\n",
    "DB_NAME = 'Database 1'\n",
    "dfs = []\n",
    "for fname in DATABASE[DB_NAME]: \n",
    "    tmp_data = scipy.io.loadmat(f'./data/{DB_NAME}/{fname}')\n",
    "    tmp_data = {k:v for k,v in tmp_data.items() if k in COLUMNS}\n",
    "    for c in COLUMNS:\n",
    "        tmp_dfx = pd.DataFrame(tmp_data[c])\n",
    "        tmp_dfx['identifier'] = fname\n",
    "        tmp_dfx['label'] = COL_MAPPINGS[c]\n",
    "        dfs.append(pd.DataFrame(tmp_dfx))\n",
    "\n",
    "dataset = pd.concat(dfs)\n",
    "print(\"Dimensions\", dataset.shape)\n",
    "dataset.head()"
   ]
  },
  {
   "cell_type": "code",
   "execution_count": 241,
   "metadata": {},
   "outputs": [
    {
     "data": {
      "text/plain": [
       "dict_keys(['__header__', '__version__', '__globals__', 'cyl_ch1', 'cyl_ch2', 'hook_ch1', 'hook_ch2', 'tip_ch1', 'tip_ch2', 'palm_ch1', 'palm_ch2', 'spher_ch1', 'spher_ch2', 'lat_ch1', 'lat_ch2'])"
      ]
     },
     "execution_count": 241,
     "metadata": {},
     "output_type": "execute_result"
    }
   ],
   "source": [
    "dx = scipy.io.loadmat('./data/Database 2/male_day_1.mat')\n",
    "dx.keys()"
   ]
  },
  {
   "cell_type": "code",
   "execution_count": 159,
   "metadata": {},
   "outputs": [
    {
     "data": {
      "text/plain": [
       "[<matplotlib.lines.Line2D at 0x28fc9f63400>]"
      ]
     },
     "execution_count": 159,
     "metadata": {},
     "output_type": "execute_result"
    },
    {
     "data": {
      "image/png": "[encoded data removed]",
      "text/plain": [
       "<matplotlib.figure.Figure at 0x28fc9ed8828>"
      ]
     },
     "metadata": {},
     "output_type": "display_data"
    }
   ],
   "source": [
    "\"\"\" Apply absolute value filter to set all values >0\n",
    "\"\"\"\n",
    "emg_abs = abs(hook_df)\n",
    "plt.plot((emg_abs.to_numpy()[5,:]))"
   ]
  },
  {
   "cell_type": "code",
   "execution_count": 250,
   "metadata": {},
   "outputs": [],
   "source": [
    "def abs_val_filter(data):\n",
    "    \"\"\" Apply an absolute value filter to a DataFrame\n",
    "    \"\"\"\n",
    "    return abs(data.copy())\n",
    "\n",
    "def butterworth_low_pass_filter(data, \n",
    "                                frequency=500, \n",
    "                                lp_filter=5,\n",
    "                                order=4):\n",
    "    \"\"\"\n",
    "    Create a low pass filter to eliminate noise and smooth EMG data \n",
    "    \n",
    "    The data were collected at a sampling rate of 500 Hz, \n",
    "    using as a programming kernel the National Instruments (NI) Labview. \n",
    "    The signals were band-pass filtered using a Butterworth Band Pass filter \n",
    "    with low and high cutoff at 15Hz and 500Hz respectively and a notch filter at 50Hz \n",
    "    to eliminate line interference artifacts.\n",
    "    \"\"\"\n",
    "    lp_filter = lp_filter/(frequency/2)\n",
    "\n",
    "    # Create a lowpass butterworth signal \n",
    "    B, A = scipy.signal.butter(order, \n",
    "                               lp_filter, \n",
    "                               btype='lowpass')\n",
    "\n",
    "    # Apply the lowpass signal filter to EMG data\n",
    "    smooth_emg = scipy.signal.filtfilt(B, \n",
    "                                       A, \n",
    "                                       data)\n",
    "    return smooth_emg"
   ]
  },
  {
   "cell_type": "code",
   "execution_count": 286,
   "metadata": {},
   "outputs": [
    {
     "data": {
      "text/plain": [
       "[<matplotlib.lines.Line2D at 0x28fd833a438>]"
      ]
     },
     "execution_count": 286,
     "metadata": {},
     "output_type": "execute_result"
    },
    {
     "data": {
      "image/png": "[encoded data removed]",
      "text/plain": [
       "<matplotlib.figure.Figure at 0x28fd8744390>"
      ]
     },
     "metadata": {},
     "output_type": "display_data"
    }
   ],
   "source": [
    "df_features = dataset.iloc[:,:3000].copy()\n",
    "df_labels = dataset.iloc[:, 3001]\n",
    "\n",
    "df_features = abs_val_filter(df_features)\n",
    "smoothed_emg_df = butterworth_low_pass_filter(df_features.to_numpy(),\n",
    "                                             frequency=5000,\n",
    "                                             lp_filter=10)\n",
    "plt.plot(df_features.to_numpy()[0])\n",
    "plt.plot(smoothed_emg_df[0])"
   ]
  },
  {
   "cell_type": "code",
   "execution_count": 282,
   "metadata": {},
   "outputs": [
    {
     "data": {
      "text/plain": [
       "[<matplotlib.lines.Line2D at 0x28fd86cf5f8>]"
      ]
     },
     "execution_count": 282,
     "metadata": {},
     "output_type": "execute_result"
    },
    {
     "data": {
      "image/png": "[encoded data removed]",
      "text/plain": [
       "<matplotlib.figure.Figure at 0x28fd857e4e0>"
      ]
     },
     "metadata": {},
     "output_type": "display_data"
    }
   ],
   "source": [
    "plt.plot(smoothed_emg_df[0])"
   ]
  },
  {
   "cell_type": "code",
   "execution_count": 283,
   "metadata": {},
   "outputs": [],
   "source": [
    "\"\"\" Split EMG dataset into training and testing\n",
    "\"\"\"\n",
    "\n",
    "X_train, X_test, y_train, y_test = train_test_split(smoothed_emg_df, \n",
    "                                                    df_labels, \n",
    "                                                    test_size=0.2, \n",
    "                                                    random_state=3)"
   ]
  },
  {
   "cell_type": "code",
   "execution_count": 284,
   "metadata": {},
   "outputs": [
    {
     "data": {
      "text/plain": [
       "False    0.636111\n",
       "True     0.363889\n",
       "Name: label, dtype: float64"
      ]
     },
     "execution_count": 284,
     "metadata": {},
     "output_type": "execute_result"
    }
   ],
   "source": [
    "\"\"\" SVM Classification Results\n",
    "\"\"\"\n",
    "\n",
    "clf = make_pipeline(StandardScaler(),\n",
    "                    SVC(gamma='auto', \n",
    "                        degree=2))\n",
    "clf.fit(X_train, y_train)\n",
    "\n",
    "svm_labels = clf.predict(X_test)\n",
    "\n",
    "(svm_labels == y_test).value_counts()/len(X_test)"
   ]
  },
  {
   "cell_type": "code",
   "execution_count": 259,
   "metadata": {},
   "outputs": [
    {
     "data": {
      "text/plain": [
       "array([5, 0, 0, 0, 3, 2, 0, 3, 5, 0, 0, 5, 0, 0, 0, 0, 0, 2, 3, 0, 0, 0,\n",
       "       5, 3, 3, 3, 0, 4, 4, 0, 3, 3, 0, 0, 0, 0, 3, 0, 0, 0, 0, 1, 0, 0,\n",
       "       0, 0, 3, 3, 5, 0, 4, 5, 0, 0, 0, 3, 4, 0, 0, 0, 0, 0, 1, 0, 3, 0,\n",
       "       0, 0, 0, 3, 0, 0, 0, 3, 0, 0, 0, 0, 3, 3, 3, 0, 1, 0, 0, 4, 0, 3,\n",
       "       0, 0, 0, 0, 3, 0, 0, 3, 3, 0, 3, 0, 0, 0, 0, 1, 4, 0, 3, 5, 0, 4,\n",
       "       0, 0, 3, 0, 4, 0, 0, 4, 3, 3, 3, 1, 0, 3, 0, 0, 0, 3, 2, 0, 3, 3,\n",
       "       5, 1, 1, 3, 3, 0, 0, 3, 0, 0, 0, 3, 0, 0, 3, 0, 0, 3, 0, 1, 3, 0,\n",
       "       0, 3, 3, 0, 3, 0, 0, 3, 0, 5, 0, 0, 0, 0, 0, 3, 0, 0, 3, 0, 0, 5,\n",
       "       0, 0, 0, 0, 0, 3, 3, 3, 0, 3, 3, 0, 0, 0, 1, 0, 0, 4, 3, 3, 1, 0,\n",
       "       3, 5, 0, 3, 3, 0, 0, 0, 3, 0, 3, 0, 0, 5, 2, 3, 0, 3, 5, 5, 0, 3,\n",
       "       3, 3, 3, 4, 1, 0, 0, 1, 1, 0, 0, 0, 3, 0, 5, 0, 3, 0, 0, 3, 5, 0,\n",
       "       3, 5, 3, 0, 0, 4, 0, 0, 3, 1, 3, 3, 0, 0, 0, 4, 3, 3, 0, 0, 0, 0,\n",
       "       0, 0, 0, 3, 3, 3, 0, 1, 0, 1, 0, 0, 0, 3, 0, 3, 3, 0, 0, 0, 3, 0,\n",
       "       0, 0, 4, 0, 0, 0, 5, 0, 0, 4, 4, 0, 0, 3, 0, 0, 2, 3, 5, 0, 0, 5,\n",
       "       4, 0, 0, 0, 2, 3, 3, 0, 5, 0, 0, 0, 0, 0, 1, 0, 1, 0, 3, 0, 0, 0,\n",
       "       0, 3, 0, 3, 0, 5, 3, 0, 0, 0, 0, 5, 0, 0, 0, 0, 0, 0, 0, 0, 3, 0,\n",
       "       3, 3, 3, 4, 0, 3, 3, 0])"
      ]
     },
     "execution_count": 259,
     "metadata": {},
     "output_type": "execute_result"
    }
   ],
   "source": [
    "\"\"\" KMeans unsupervised learning\n",
    "\"\"\"\n",
    "\n",
    "kmeans = KMeans(n_clusters=len(LABELS), \n",
    "                random_state=0).fit(X_train)\n",
    "\n",
    "kmeans.labels_\n",
    "predicted_labels = kmeans.predict(X_test)\n",
    "predicted_labels"
   ]
  },
  {
   "cell_type": "code",
   "execution_count": null,
   "metadata": {},
   "outputs": [],
   "source": []
  }
 ],
 "metadata": {
  "kernelspec": {
   "display_name": "Python 3",
   "language": "python",
   "name": "python3"
  },
  "language_info": {
   "codemirror_mode": {
    "name": "ipython",
    "version": 3
   },
   "file_extension": ".py",
   "mimetype": "text/x-python",
   "name": "python",
   "nbconvert_exporter": "python",
   "pygments_lexer": "ipython3",
   "version": "3.6.4"
  }
 },
 "nbformat": 4,
 "nbformat_minor": 2
}
